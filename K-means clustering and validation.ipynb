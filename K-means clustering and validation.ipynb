{
 "cells": [
  {
   "cell_type": "markdown",
   "metadata": {},
   "source": [
    "## K-means Clustering\n",
    "#### Author: Uday Keith\n",
    "#### Date: May 18, 2018"
   ]
  },
  {
   "cell_type": "code",
   "execution_count": 7,
   "metadata": {
    "collapsed": true
   },
   "outputs": [],
   "source": [
    "# Import Libraries\n",
    "import numpy as np\n",
    "import matplotlib.pyplot as plt\n",
    "from matplotlib import style\n",
    "import pandas as pd\n",
    "import random\n",
    "from sklearn.cluster import KMeans\n",
    "from scipy.spatial.distance import cdist\n",
    "from sklearn.metrics import silhouette_samples, silhouette_score\n",
    "from sklearn.preprocessing import StandardScaler"
   ]
  },
  {
   "cell_type": "markdown",
   "metadata": {},
   "source": [
    "## Implementing K-means clustering via Oops"
   ]
  },
  {
   "cell_type": "code",
   "execution_count": 11,
   "metadata": {},
   "outputs": [
    {
     "data": {
      "image/png": "[encoded data removed]",
      "text/plain": [
       "<Figure size 432x288 with 1 Axes>"
      ]
     },
     "metadata": {},
     "output_type": "display_data"
    }
   ],
   "source": [
    "# Declare K-means class\n",
    "\n",
    "style.use('ggplot')\n",
    "\n",
    "# tolerance refers to threshold to limit convergece \n",
    "class K_Means:\n",
    "    def __init__(self, k=2, tolerance = 0.01, max_iterations = 500):\n",
    "        self.k = k\n",
    "        self.tolerance = tolerance\n",
    "        self.max_iterations = max_iterations\n",
    "\n",
    "    def fit(self, data):\n",
    "\n",
    "        self.centroids = {}\n",
    "\n",
    "        #initialize the centroids, the first 'k' elements in the dataset will be our initial centroids\n",
    "        for i in range(self.k):\n",
    "            self.centroids[i] = data[i]\n",
    "\n",
    "        #begin iterations\n",
    "        for i in range(self.max_iterations):\n",
    "            self.classes = {}\n",
    "            for i in range(self.k):\n",
    "                self.classes[i] = []\n",
    "\n",
    "        \n",
    "        #find the euclidean distance between the point and cluster centroid; choose the nearest centroid\n",
    "        # for every row vector, calculate the distance b/w itself and each cluster\n",
    "        # choose the smallest distance\n",
    "        # use the index position of min. distance to select which list in classes dict to add to\n",
    "        # where each list holds the data points associated with the Kth cluster\n",
    "            for features in data:\n",
    "                distances = [np.linalg.norm(features - self.centroids[centroid]) for centroid in self.centroids]\n",
    "                classification = distances.index(min(distances))\n",
    "                self.classes[classification].append(features)\n",
    "\n",
    "            previous = dict(self.centroids)\n",
    "            \n",
    "            #average the cluster datapoints to re-calculate the centroids\n",
    "            for classification in self.classes:\n",
    "                self.centroids[classification] = np.average(self.classes[classification], axis = 0)\n",
    "        \n",
    "        #Flag that will allow us to break code if minimum within-cluster tolernace achieved \n",
    "            isOptimal = True\n",
    "\n",
    "            for centroid in self.centroids:\n",
    "\n",
    "                original_centroid = previous[centroid]\n",
    "                curr = self.centroids[centroid]\n",
    "\n",
    "                if np.sum((curr - original_centroid)/original_centroid * 100.0) > self.tolerance:\n",
    "                    isOptimal = False\n",
    "\n",
    "            #break out of the main loop if the results are optimal, ie. the centroids don't change their positions much(more than our tolerance)\n",
    "            if isOptimal:\n",
    "                break\n",
    "\n",
    "    def pred(self, data):\n",
    "        distances = [np.linalg.norm(data - self.centroids[centroid]) for centroid in self.centroids]\n",
    "        classification = distances.index(min(distances))\n",
    "        print(classification)\n",
    "        return classification\n",
    "\n",
    "def main():\n",
    "    X = df.values #returns a numpy array\n",
    "    std = StandardScaler()\n",
    "    X = std.fit_transform(X)\n",
    "    \n",
    "    km = K_Means(2)\n",
    "    km.fit(X)\n",
    "    \n",
    "    # Plotting starts here\n",
    "    colors = 10*[\"r\", \"g\", \"c\", \"b\", \"k\"]\n",
    "\n",
    "    for centroid in km.centroids:\n",
    "        plt.scatter(km.centroids[centroid][0], km.centroids[centroid][1], s = 130, marker = \"x\")\n",
    "\n",
    "    for classification in km.classes:\n",
    "        color = colors[classification]\n",
    "        for features in km.classes[classification]:\n",
    "            plt.scatter(features[0], features[1], color = color,s = 30)\n",
    "    plt.title(\"K=2 Cluster\")\n",
    "    plt.xlabel(\"Height(cm)\")\n",
    "    plt.ylabel(\"Weight(kg's)\")\n",
    "    plt.show()\n",
    "\n",
    "# Set seed to random data is reproduciblbe\n",
    "np.random.seed(1)\n",
    "    # height in cm\n",
    "x1 = 6.9 * np.random.randn(50) + 170.6\n",
    "    # weight in kg's\n",
    "x2 = 3.8 * np.random.randn(50) + 63.2\n",
    "df1 = pd.DataFrame(x1)\n",
    "df2 = pd.DataFrame(x2)\n",
    "df = pd.concat([df1,df2],axis =1)\n",
    "\n",
    "   \n",
    "\n",
    "if __name__ == \"__main__\":\n",
    "    main()\n",
    "\n"
   ]
  },
  {
   "cell_type": "markdown",
   "metadata": {},
   "source": [
    "## K-means using Sklearn "
   ]
  },
  {
   "cell_type": "code",
   "execution_count": 28,
   "metadata": {
    "collapsed": true
   },
   "outputs": [],
   "source": [
    "\n",
    "np.random.seed(1)\n",
    "    # height in cm\n",
    "x1 = 6.9 * np.random.randn(50) + 170.6\n",
    "    # weight in kg's\n",
    "x2 = 3.8 * np.random.randn(50) + 63.2\n",
    "df1 = pd.DataFrame(x1)\n",
    "df2 = pd.DataFrame(x2)\n",
    "df = pd.concat([df1,df2],axis =1)\n",
    "X_sklearn = df.values\n",
    "std  = StandardScaler()\n",
    "X_sklearn = std.fit_transform(X_sklearn)\n",
    "kmeans = KMeans(n_clusters=7,tol = 0.01,max_iter = 500).fit(X_sklearn)"
   ]
  },
  {
   "cell_type": "code",
   "execution_count": 29,
   "metadata": {},
   "outputs": [
    {
     "data": {
      "text/plain": [
       "array([2, 0, 4, 0, 2, 6, 1, 5, 1, 5, 2, 6, 3, 0, 1, 0, 5, 5, 5, 4, 4, 2,\n",
       "       1, 1, 1, 4, 0, 3, 3, 1, 0, 0, 3, 3, 3, 3, 0, 1, 2, 1, 5, 3, 0, 2,\n",
       "       3, 3, 0, 2, 0, 1], dtype=int32)"
      ]
     },
     "execution_count": 29,
     "metadata": {},
     "output_type": "execute_result"
    }
   ],
   "source": [
    "kmeans.labels_"
   ]
  },
  {
   "cell_type": "code",
   "execution_count": 30,
   "metadata": {},
   "outputs": [
    {
     "data": {
      "image/png": "[encoded data removed]",
      "text/plain": [
       "<Figure size 432x288 with 1 Axes>"
      ]
     },
     "metadata": {},
     "output_type": "display_data"
    }
   ],
   "source": [
    "plt.figure(figsize=(6, 4))\n",
    "plt.scatter(X_sklearn[:,0], X_sklearn[:,1], c=kmeans.labels_.astype(float))\n",
    "plt.title(\"K=2 Cluster\")\n",
    "plt.xlabel(\"Height(cm)\")\n",
    "plt.ylabel(\"Weight(kg's)\")\n",
    "plt.show()"
   ]
  },
  {
   "cell_type": "code",
   "execution_count": 11,
   "metadata": {
    "collapsed": true
   },
   "outputs": [],
   "source": [
    "## Scaling"
   ]
  },
  {
   "cell_type": "code",
   "execution_count": 12,
   "metadata": {
    "collapsed": true
   },
   "outputs": [],
   "source": [
    "from sklearn.preprocessing import scale \n",
    "\n",
    "#subtract by mean and divide by sample standard deviation; Z axis\n",
    "X_scaled = scale(X)\n",
    "\n"
   ]
  },
  {
   "cell_type": "code",
   "execution_count": 13,
   "metadata": {},
   "outputs": [
    {
     "data": {
      "image/png": "[encoded data removed]",
      "text/plain": [
       "<matplotlib.figure.Figure at 0x1166d8748>"
      ]
     },
     "metadata": {},
     "output_type": "display_data"
    }
   ],
   "source": [
    "def main():\n",
    "    #np.random.seed(1)\n",
    "    #x1 = np.random.randn(50)\n",
    "    #x2 = np.random.randn(50)\n",
    "    #df1 = pd.DataFrame(x1)\n",
    "    #df2 = pd.DataFrame(x2)\n",
    "    #df = pd.concat([df1,df2],axis =1)\n",
    "\n",
    "    #X = df.values #returns a numpy array\n",
    "    \n",
    "    km = K_Means(2)\n",
    "    km.fit(X_scaled)\n",
    "    \n",
    "    # Plotting starts here\n",
    "    colors = 10*[\"r\", \"g\", \"c\", \"b\", \"k\"]\n",
    "\n",
    "    for centroid in km.centroids:\n",
    "        plt.scatter(km.centroids[centroid][0], km.centroids[centroid][1], s = 130, marker = \"x\")\n",
    "\n",
    "    for classification in km.classes:\n",
    "        color = colors[classification]\n",
    "        for features in km.classes[classification]:\n",
    "            plt.scatter(features[0], features[1], color = color,s = 30)\n",
    "    plt.title(\"K=2 Cluster\")\n",
    "    plt.show()\n",
    "    \n",
    "    \n",
    "\n",
    "if __name__ == \"__main__\":\n",
    "    main()\n",
    "\n"
   ]
  },
  {
   "cell_type": "markdown",
   "metadata": {},
   "source": [
    "## BUT...how do we choose K, the number of clusters?? \n",
    "\n",
    "Well, one way is just to eye-ball the clustering and if historical data or domain knowledge present, compare against the distribution. Not a great approach. \n",
    "\n",
    "\n"
   ]
  },
  {
   "cell_type": "markdown",
   "metadata": {},
   "source": [
    "### Elbow Method\n",
    "\n",
    "In the elbow method, we choose the number of K based on the elbow of the cost function vs K plot. Elbow implies the point post which the change in  magnitute of cost reduction stops increasing (or starts decreasing) as K increases. "
   ]
  },
  {
   "cell_type": "code",
   "execution_count": 14,
   "metadata": {},
   "outputs": [],
   "source": [
    "# k means determine k\n",
    "\n",
    "distortions = []\n",
    "K = range(2,10)\n",
    "for k in K:\n",
    "    kmeanModel =KMeans(n_clusters=k)\n",
    "    kmeanModel.fit(X)\n",
    "    #cost func; sum of squared distance b/w each row vector and final Kth cluster centroid\n",
    "    distortions.append(sum(np.min(cdist(X, kmeanModel.cluster_centers_, 'euclidean'), axis=1)) / X.shape[0])\n",
    " "
   ]
  },
  {
   "cell_type": "code",
   "execution_count": 15,
   "metadata": {},
   "outputs": [
    {
     "data": {
      "text/plain": [
       "[4.115958990147668,\n",
       " 3.4413332391951745,\n",
       " 3.047259230182351,\n",
       " 2.7399829514617777,\n",
       " 2.414430782297856,\n",
       " 2.208905569880674,\n",
       " 2.054110524447812,\n",
       " 1.890594689248501]"
      ]
     },
     "execution_count": 15,
     "metadata": {},
     "output_type": "execute_result"
    }
   ],
   "source": [
    "distortions"
   ]
  },
  {
   "cell_type": "code",
   "execution_count": 159,
   "metadata": {},
   "outputs": [
    {
     "data": {
      "image/png": "[encoded data removed]",
      "text/plain": [
       "<matplotlib.figure.Figure at 0x1137ae9e8>"
      ]
     },
     "metadata": {},
     "output_type": "display_data"
    }
   ],
   "source": [
    "# Plot the elbow\n",
    "plt.plot(K, distortions, 'bx-')\n",
    "plt.xlabel('k')\n",
    "plt.ylabel('Distortion')\n",
    "plt.title('The Elbow Method showing the optimal k')\n",
    "plt.show()\n"
   ]
  },
  {
   "cell_type": "code",
   "execution_count": 164,
   "metadata": {
    "collapsed": true
   },
   "outputs": [],
   "source": [
    "distortions_scaled = []\n",
    "K = range(2,9)\n",
    "for k in K:\n",
    "    kmeanModel =KMeans(n_clusters=k)\n",
    "    kmeanModel.fit(X_scaled)\n",
    "    #cost func; sum of squared distance b/w each row vector and final Kth cluster centroid\n",
    "    distortions_scaled.append(sum(np.min(cdist(X_scaled, kmeanModel.cluster_centers_, 'euclidean'), axis=1)) / X_scaled.shape[0])"
   ]
  },
  {
   "cell_type": "code",
   "execution_count": 165,
   "metadata": {},
   "outputs": [
    {
     "data": {
      "image/png": "[encoded data removed]",
      "text/plain": [
       "<matplotlib.figure.Figure at 0x113fe7c88>"
      ]
     },
     "metadata": {},
     "output_type": "display_data"
    }
   ],
   "source": [
    "# Plot the elbow\n",
    "plt.plot(K, distortions_scaled, 'bx-')\n",
    "plt.xlabel('k')\n",
    "plt.ylabel('Distortion')\n",
    "plt.title('The Elbow Method showing the optimal k')\n",
    "plt.show()\n",
    "\n"
   ]
  },
  {
   "cell_type": "markdown",
   "metadata": {},
   "source": [
    "## Sillhouite \n",
    "\n",
    "Silhouette analysis can be used to study the separation distance between the resulting clusters. The silhouette coefficient displays a measure of how close each point in one cluster is to points in the neighboring clusters and thus provides a way to assess parameters like number of clusters. This measure has a range of [-1, 1].\n",
    "\n",
    "Silhouette coefficients (as these values are referred to as) near +1 indicate that the sample is far away from the neighboring clusters. A value of 0 indicates that the sample is on or very close to the decision boundary between two neighboring clusters and negative values indicate that those samples might have been assigned to the wrong cluster.\n",
    "\n",
    "The Silhouette Coefficient is calculated using the mean within-cluster distance/variation (a) and the mean nearest-cluster distance (b) for each sample. The Silhouette Coefficient for a sample is (b - a) / max(a, b). To clarify, b is the distance between a sample and the nearest cluster that the sample is not a part of\n",
    "\n",
    "There is a visual component to plot the sillhouette's you can follow at: http://scikit-learn.org/stable/auto_examples/cluster/plot_kmeans_silhouette_analysis.html\n",
    "\n"
   ]
  },
  {
   "cell_type": "code",
   "execution_count": null,
   "metadata": {},
   "outputs": [],
   "source": []
  },
  {
   "cell_type": "code",
   "execution_count": 120,
   "metadata": {},
   "outputs": [
    {
     "name": "stdout",
     "output_type": "stream",
     "text": [
      "For n_clusters = 2 The average silhouette_score is : 0.3763197783627018\n",
      "For n_clusters = 3 The average silhouette_score is : 0.3402556773105881\n",
      "For n_clusters = 4 The average silhouette_score is : 0.3563373928353867\n",
      "For n_clusters = 5 The average silhouette_score is : 0.38526233414197536\n",
      "For n_clusters = 6 The average silhouette_score is : 0.3853555034968174\n",
      "For n_clusters = 7 The average silhouette_score is : 0.3889201598380911\n",
      "For n_clusters = 8 The average silhouette_score is : 0.3843175019574677\n"
     ]
    }
   ],
   "source": [
    "\n",
    "\n",
    "K_vals = [2,3,4,5,6,7,8]\n",
    "for n_clusters in K_vals:\n",
    "    clusterer = KMeans(n_clusters=n_clusters, random_state=10)\n",
    "    cluster_labels = clusterer.fit_predict(X)\n",
    "    silhouette_avg = silhouette_score(X, cluster_labels)\n",
    "    print(\"For n_clusters =\", n_clusters,\"The average silhouette_score is :\", silhouette_avg)\n",
    "\n"
   ]
  },
  {
   "cell_type": "code",
   "execution_count": null,
   "metadata": {
    "collapsed": true
   },
   "outputs": [],
   "source": [
    " \n"
   ]
  },
  {
   "cell_type": "code",
   "execution_count": null,
   "metadata": {
    "collapsed": true
   },
   "outputs": [],
   "source": []
  }
 ],
 "metadata": {
  "kernelspec": {
   "display_name": "Python 3",
   "language": "python",
   "name": "python3"
  },
  "language_info": {
   "codemirror_mode": {
    "name": "ipython",
    "version": 3
   },
   "file_extension": ".py",
   "mimetype": "text/x-python",
   "name": "python",
   "nbconvert_exporter": "python",
   "pygments_lexer": "ipython3",
   "version": "3.6.6"
  }
 },
 "nbformat": 4,
 "nbformat_minor": 2
}
